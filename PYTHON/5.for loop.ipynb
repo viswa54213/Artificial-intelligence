{
 "cells": [
  {
   "cell_type": "code",
   "execution_count": 5,
   "id": "f609092f",
   "metadata": {},
   "outputs": [
    {
     "name": "stdout",
     "output_type": "stream",
     "text": [
      "enter the age10\n",
      "enter the age20\n",
      "enter the age30\n",
      "enter the age40\n",
      "[10, 20, 30, 40]\n",
      "children\n",
      "adult\n",
      "adult\n",
      "citizen\n"
     ]
    }
   ],
   "source": [
    "a=[]\n",
    "for i in range(1,5):\n",
    "    num=int(input(\"enter the age\"))\n",
    "    a.append(num)\n",
    "print(a)\n",
    "for i in a:\n",
    "    if(i<18):\n",
    "        print(\"children\")\n",
    "    elif(i<35):\n",
    "        print(\"adult\")\n",
    "    elif(i<59):\n",
    "        print(\"citizen\")\n",
    "    else:\n",
    "        print(\"senior citizen\")\n"
   ]
  },
  {
   "cell_type": "code",
   "execution_count": 8,
   "id": "883afa72",
   "metadata": {},
   "outputs": [
    {
     "name": "stdout",
     "output_type": "stream",
     "text": [
      "20\n",
      "22\n",
      "24\n",
      "26\n",
      "28\n"
     ]
    }
   ],
   "source": [
    "for temp in range(20,30,2):\n",
    "    print(temp)"
   ]
  },
  {
   "cell_type": "code",
   "execution_count": 3,
   "id": "c1aef371",
   "metadata": {},
   "outputs": [
    {
     "name": "stdout",
     "output_type": "stream",
     "text": [
      "n:6\n",
      "enter the mark2\n",
      "enter the mark3\n",
      "[2, 3]\n"
     ]
    }
   ],
   "source": [
    "a=[]\n",
    "n=int(input(\"n:\"))\n",
    "for i in (1,n):\n",
    "    num=int(input(\"enter the mark\"))\n",
    "    a.append(num)\n",
    "print(a)    "
   ]
  },
  {
   "cell_type": "markdown",
   "id": "f0dfc318",
   "metadata": {},
   "source": [
    "a=[]\n",
    "n=int(input(\"n:\"))\n",
    "for i in (1,n):\n",
    "    print(i)\n"
   ]
  },
  {
   "cell_type": "code",
   "execution_count": null,
   "id": "56fae101",
   "metadata": {},
   "outputs": [],
   "source": [
    "b=[]\n",
    "n=6\n",
    "for i in range(n):\n",
    "    num=int(input(\"enter the value:\"+str(i)))\n",
    "    b.append(num)\n",
    "print(b)    "
   ]
  },
  {
   "cell_type": "markdown",
   "id": "14a9c5dc",
   "metadata": {},
   "source": [
    "## "
   ]
  }
 ],
 "metadata": {
  "kernelspec": {
   "display_name": "Python 3 (ipykernel)",
   "language": "python",
   "name": "python3"
  },
  "language_info": {
   "codemirror_mode": {
    "name": "ipython",
    "version": 3
   },
   "file_extension": ".py",
   "mimetype": "text/x-python",
   "name": "python",
   "nbconvert_exporter": "python",
   "pygments_lexer": "ipython3",
   "version": "3.11.5"
  }
 },
 "nbformat": 4,
 "nbformat_minor": 5
}
