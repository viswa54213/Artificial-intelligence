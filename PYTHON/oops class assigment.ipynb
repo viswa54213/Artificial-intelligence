{
 "cells": [
  {
   "cell_type": "code",
   "execution_count": 1,
   "id": "4ca060dd",
   "metadata": {},
   "outputs": [
    {
     "name": "stdout",
     "output_type": "stream",
     "text": [
      "Sub-fields in AI are:\n",
      "Machine Learning\n",
      "neural networks\n",
      "vision\n",
      "robotics\n",
      "speech processing\n",
      "natural language processing\n"
     ]
    }
   ],
   "source": [
    "class SubfieldsInAI():\n",
    "    def subfield():\n",
    "        LIST=[\"Machine Learning\",\"neural networks\",\"vision\",\"robotics\",\"speech processing\",\"natural language processing\"]\n",
    "        print(\"Sub-fields in AI are:\")\n",
    "        for i in LIST:\n",
    "            print(i)\n",
    "SubfieldsInAI.subfield()            \n",
    "            "
   ]
  },
  {
   "cell_type": "code",
   "execution_count": 10,
   "id": "4dc69e8d",
   "metadata": {},
   "outputs": [
    {
     "name": "stdout",
     "output_type": "stream",
     "text": [
      "Enter the number:52452\n",
      "52452 is even number\n"
     ]
    },
    {
     "data": {
      "text/plain": [
       "'is even number'"
      ]
     },
     "execution_count": 10,
     "metadata": {},
     "output_type": "execute_result"
    }
   ],
   "source": [
    "class OddEven():\n",
    "    def oddeven():\n",
    "        if(a%2==0):\n",
    "            print(a,\"is even number\")\n",
    "            \n",
    "        else:\n",
    "            print(a,\"is odd number\")\n",
    "               \n",
    "a=int(input(\"Enter the number:\")) \n",
    "OddEven.oddeven()     \n",
    "\n"
   ]
  },
  {
   "cell_type": "code",
   "execution_count": 9,
   "id": "944decb5",
   "metadata": {},
   "outputs": [
    {
     "name": "stdout",
     "output_type": "stream",
     "text": [
      "Your Gender:male\n",
      "Your Age:20\n",
      "NOT ELIGIBLE\n"
     ]
    },
    {
     "data": {
      "text/plain": [
       "'NOT ELIGIBLE'"
      ]
     },
     "execution_count": 9,
     "metadata": {},
     "output_type": "execute_result"
    }
   ],
   "source": [
    "class ElegiblityForMarriage():\n",
    "    def elegible():\n",
    "        gender=input(\"Your Gender:\")\n",
    "        age=int(input(\"Your Age:\"))\n",
    "        if(gender==\"male\" and age==30):\n",
    "            print(\"ELIGIBLE\")\n",
    "            marrige=\"ELIGIBLE\"\n",
    "        else:\n",
    "            print(\"NOT ELIGIBLE\")\n",
    "            marrige=\"NOT ELIGIBLE\"\n",
    "            return marrige\n",
    "ElegiblityForMarriage.elegible()        "
   ]
  },
  {
   "cell_type": "code",
   "execution_count": 12,
   "id": "c67061a1",
   "metadata": {},
   "outputs": [
    {
     "name": "stdout",
     "output_type": "stream",
     "text": [
      "Subject1=98\n",
      "Subject2=87\n",
      "Subject3=95\n",
      "Subject4=95\n",
      "Subject5=93\n",
      "total: 468\n",
      "percantage: 93.6\n"
     ]
    }
   ],
   "source": [
    "class FindPercent():\n",
    "    def percentage():\n",
    "        a=int(input(\"Subject1=\"))\n",
    "        b=int(input(\"Subject2=\"))\n",
    "        c=int(input(\"Subject3=\"))\n",
    "        d=int(input(\"Subject4=\"))\n",
    "        e=int(input(\"Subject5=\"))\n",
    "        add=a+b+c+d+e\n",
    "        print(\"total:\",add)\n",
    "        pr=(a+b+c+d+e)/5\n",
    "        print(\"percantage:\",pr)\n",
    "FindPercent.percentage()        "
   ]
  },
  {
   "cell_type": "code",
   "execution_count": 13,
   "id": "23462bf4",
   "metadata": {},
   "outputs": [
    {
     "name": "stdout",
     "output_type": "stream",
     "text": [
      "height:32\n",
      "breadth:34\n",
      "areaformula:(height*breadth)/2\n",
      "area formula: 544.0\n",
      "height1:2\n",
      "height2:4\n",
      "breadth:4\n",
      "Perimeter formula: Height1+Height2+Breadth\n",
      "Perimeter of Triangle:  10\n"
     ]
    }
   ],
   "source": [
    "class triangle():\n",
    "    def triangle():\n",
    "        a=int(input(\"height:\"))\n",
    "        b=int(input(\"breadth:\"))\n",
    "        print(\"areaformula:(height*breadth)/2\")\n",
    "        print(\"area formula:\",(a*b)/2)\n",
    "        x=int(input(\"height1:\"))\n",
    "        y=int(input(\"height2:\"))\n",
    "        z=int(input(\"breadth:\"))\n",
    "        print(\"Perimeter formula: Height1+Height2+Breadth\")\n",
    "        print(\"Perimeter of Triangle: \",x+y+z)\n",
    "triangle.triangle()        "
   ]
  },
  {
   "cell_type": "code",
   "execution_count": null,
   "id": "9d812bfd",
   "metadata": {},
   "outputs": [],
   "source": []
  }
 ],
 "metadata": {
  "kernelspec": {
   "display_name": "Python 3 (ipykernel)",
   "language": "python",
   "name": "python3"
  },
  "language_info": {
   "codemirror_mode": {
    "name": "ipython",
    "version": 3
   },
   "file_extension": ".py",
   "mimetype": "text/x-python",
   "name": "python",
   "nbconvert_exporter": "python",
   "pygments_lexer": "ipython3",
   "version": "3.11.5"
  }
 },
 "nbformat": 4,
 "nbformat_minor": 5
}
