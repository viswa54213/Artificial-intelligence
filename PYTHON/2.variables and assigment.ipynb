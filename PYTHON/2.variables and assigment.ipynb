{
 "cells": [
  {
   "cell_type": "code",
   "execution_count": 1,
   "id": "15573604",
   "metadata": {},
   "outputs": [
    {
     "name": "stdout",
     "output_type": "stream",
     "text": [
      "50\n"
     ]
    }
   ],
   "source": [
    "mango=20\n",
    "orange=30\n",
    "count=mango+orange\n",
    "print(count)"
   ]
  },
  {
   "cell_type": "code",
   "execution_count": 2,
   "id": "81880ae2",
   "metadata": {},
   "outputs": [
    {
     "ename": "NameError",
     "evalue": "name 'total' is not defined",
     "output_type": "error",
     "traceback": [
      "\u001b[1;31m---------------------------------------------------------------------------\u001b[0m",
      "\u001b[1;31mNameError\u001b[0m                                 Traceback (most recent call last)",
      "Cell \u001b[1;32mIn[2], line 4\u001b[0m\n\u001b[0;32m      2\u001b[0m selvamani\u001b[38;5;241m=\u001b[39m\u001b[38;5;241m34\u001b[39m\n\u001b[0;32m      3\u001b[0m total_difference\u001b[38;5;241m=\u001b[39mravi_kumar\u001b[38;5;241m-\u001b[39mselvamani\n\u001b[1;32m----> 4\u001b[0m \u001b[38;5;28mprint\u001b[39m(total)\n",
      "\u001b[1;31mNameError\u001b[0m: name 'total' is not defined"
     ]
    }
   ],
   "source": [
    "ravi_kumar=45\n",
    "selvamani=34\n",
    "total_difference=ravi_kumar-selvamani\n",
    "print(total)"
   ]
  },
  {
   "cell_type": "code",
   "execution_count": 3,
   "id": "882e8c32",
   "metadata": {},
   "outputs": [
    {
     "name": "stdout",
     "output_type": "stream",
     "text": [
      "11\n"
     ]
    }
   ],
   "source": [
    "ravi_kumar=45\n",
    "selvamani=34\n",
    "total_difference=ravi_kumar-selvamani\n",
    "print(total_difference)"
   ]
  },
  {
   "cell_type": "code",
   "execution_count": 4,
   "id": "f6002af8",
   "metadata": {},
   "outputs": [
    {
     "name": "stdout",
     "output_type": "stream",
     "text": [
      "detials\n",
      "age: 40\n",
      "total mark: 48\n"
     ]
    }
   ],
   "source": [
    "age=40\n",
    "mark=48\n",
    "print(\"detials\")\n",
    "print(\"age:\",age)\n",
    "print(\"total mark:\",mark)"
   ]
  },
  {
   "cell_type": "code",
   "execution_count": null,
   "id": "e917eba8",
   "metadata": {},
   "outputs": [],
   "source": []
  }
 ],
 "metadata": {
  "kernelspec": {
   "display_name": "Python 3 (ipykernel)",
   "language": "python",
   "name": "python3"
  },
  "language_info": {
   "codemirror_mode": {
    "name": "ipython",
    "version": 3
   },
   "file_extension": ".py",
   "mimetype": "text/x-python",
   "name": "python",
   "nbconvert_exporter": "python",
   "pygments_lexer": "ipython3",
   "version": "3.11.5"
  }
 },
 "nbformat": 4,
 "nbformat_minor": 5
}
