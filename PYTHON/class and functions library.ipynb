{
 "cells": [
  {
   "cell_type": "code",
   "execution_count": 1,
   "id": "d8c0deb8",
   "metadata": {},
   "outputs": [],
   "source": [
    "from allfunction import more"
   ]
  },
  {
   "cell_type": "code",
   "execution_count": 2,
   "id": "74023643",
   "metadata": {},
   "outputs": [
    {
     "name": "stdout",
     "output_type": "stream",
     "text": [
      "Sub-fields in AI are:\n",
      "Machine Learning\n",
      "neural networks\n",
      "vision\n",
      "robotics\n",
      "speech processing\n",
      "natural language processing\n"
     ]
    }
   ],
   "source": [
    "more.subfield()"
   ]
  },
  {
   "cell_type": "code",
   "execution_count": 3,
   "id": "f9511278",
   "metadata": {},
   "outputs": [
    {
     "name": "stdout",
     "output_type": "stream",
     "text": [
      "Enter the number:53452\n",
      "53452 is even number\n"
     ]
    }
   ],
   "source": [
    "more.oddeven()"
   ]
  },
  {
   "cell_type": "code",
   "execution_count": 4,
   "id": "6ba8e4d1",
   "metadata": {},
   "outputs": [
    {
     "name": "stdout",
     "output_type": "stream",
     "text": [
      "Your Gender:male\n",
      "Your Age:20\n",
      "NOT ELIGIBLE\n"
     ]
    },
    {
     "data": {
      "text/plain": [
       "'NOT ELIGIBLE'"
      ]
     },
     "execution_count": 4,
     "metadata": {},
     "output_type": "execute_result"
    }
   ],
   "source": [
    "more.elegible()"
   ]
  },
  {
   "cell_type": "code",
   "execution_count": 5,
   "id": "847165a9",
   "metadata": {},
   "outputs": [
    {
     "name": "stdout",
     "output_type": "stream",
     "text": [
      "Subject1=98\n",
      "Subject2=87\n",
      "Subject3=95\n",
      "Subject4=95\n",
      "Subject5=93\n",
      "total: 468\n",
      "percantage: 93.6\n"
     ]
    }
   ],
   "source": [
    "more.percentage()"
   ]
  },
  {
   "cell_type": "code",
   "execution_count": 6,
   "id": "df326afd",
   "metadata": {},
   "outputs": [
    {
     "name": "stdout",
     "output_type": "stream",
     "text": [
      "height:32\n",
      "breadth:34\n",
      "areaformula:(height*breadth)/2\n",
      "area formula: 544.0\n",
      "height1:2\n",
      "height2:4\n",
      "breadth:4\n",
      "Perimeter formula: Height1+Height2+Breadth\n",
      "Perimeter of Triangle:  10\n"
     ]
    }
   ],
   "source": [
    "more.triangle()"
   ]
  },
  {
   "cell_type": "code",
   "execution_count": null,
   "id": "e9ec63f9",
   "metadata": {},
   "outputs": [],
   "source": []
  }
 ],
 "metadata": {
  "kernelspec": {
   "display_name": "Python 3 (ipykernel)",
   "language": "python",
   "name": "python3"
  },
  "language_info": {
   "codemirror_mode": {
    "name": "ipython",
    "version": 3
   },
   "file_extension": ".py",
   "mimetype": "text/x-python",
   "name": "python",
   "nbconvert_exporter": "python",
   "pygments_lexer": "ipython3",
   "version": "3.11.5"
  }
 },
 "nbformat": 4,
 "nbformat_minor": 5
}
